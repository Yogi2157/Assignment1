{
 "cells": [
  {
   "cell_type": "code",
   "execution_count": 3,
   "metadata": {},
   "outputs": [
    {
     "name": "stdout",
     "output_type": "stream",
     "text": [
      "Number of even numbers in given series : 5\n",
      "Number of odd numbers in given series : 5\n"
     ]
    }
   ],
   "source": [
    "# Write a Python program to count the number of even and odd numbers from a series of numbers.\n",
    "\n",
    "x=eval(input(\"enter a series of numbers :\"))\n",
    "count_even=0\n",
    "count_odd=0\n",
    "for i in x:\n",
    "    if i%2==0:\n",
    "        count_even=count_even+1\n",
    "    else:\n",
    "        count_odd=count_odd+1\n",
    "print(\"Number of even numbers in given series :\" ,count_even)\n",
    "print(\"Number of odd numbers in given series :\" ,count_odd)"
   ]
  }
 ],
 "metadata": {
  "kernelspec": {
   "display_name": "Python 3",
   "language": "python",
   "name": "python3"
  },
  "language_info": {
   "codemirror_mode": {
    "name": "ipython",
    "version": 3
   },
   "file_extension": ".py",
   "mimetype": "text/x-python",
   "name": "python",
   "nbconvert_exporter": "python",
   "pygments_lexer": "ipython3",
   "version": "3.11.2"
  },
  "orig_nbformat": 4
 },
 "nbformat": 4,
 "nbformat_minor": 2
}
